{
 "cells": [
  {
   "cell_type": "code",
   "execution_count": 19,
   "id": "4f1c5600-7e3a-40f8-8f70-5368ab6ab60a",
   "metadata": {},
   "outputs": [],
   "source": [
    "import os"
   ]
  },
  {
   "cell_type": "code",
   "execution_count": 20,
   "id": "9146c4b3-5d08-4637-a747-b4f64813d662",
   "metadata": {},
   "outputs": [],
   "source": [
    "with open('tinyshksp.txt', 'r') as f:\n",
    "    text = f.read()"
   ]
  },
  {
   "cell_type": "code",
   "execution_count": 21,
   "id": "27ce3d60-1118-4fd5-beb7-2b57f2876d07",
   "metadata": {},
   "outputs": [
    {
     "name": "stdout",
     "output_type": "stream",
     "text": [
      "\n",
      " !$&',-.3:;?ABCDEFGHIJKLMNOPQRSTUVWXYZabcdefghijklmnopqrstuvwxyz\n",
      "65\n"
     ]
    }
   ],
   "source": [
    "chars = sorted(list(set(text)))\n",
    "vocab_size = len(chars)\n",
    "print(\"\".join(chars))\n",
    "print(vocab_size)"
   ]
  },
  {
   "cell_type": "code",
   "execution_count": 22,
   "id": "92500eb2-495b-4708-ba8e-f876c36d4a39",
   "metadata": {},
   "outputs": [
    {
     "name": "stdout",
     "output_type": "stream",
     "text": [
      "[46, 43, 50, 50, 53, 1, 58, 46, 43, 56, 43]\n"
     ]
    }
   ],
   "source": [
    "stoi = { ch:i for i, ch in enumerate(chars) }\n",
    "itos = { i:ch for i, ch in enumerate(chars) }\n",
    "encode = lambda s: [stoi[c] for c in s]\n",
    "decode = lambda l: ''.join([itos[i] for i in l])\n",
    "\n",
    "print(encode('hello there'))"
   ]
  },
  {
   "cell_type": "code",
   "execution_count": 24,
   "id": "45c75c6c-4287-41ea-b771-d64490262d75",
   "metadata": {},
   "outputs": [],
   "source": [
    "import torch\n",
    "data = torch.tensor(encode(text), dtype=torch.long)\n",
    "# print(data[:1000])"
   ]
  },
  {
   "cell_type": "code",
   "execution_count": null,
   "id": "1f45aaac-af2b-4424-a254-4c7ddaadd2f9",
   "metadata": {},
   "outputs": [],
   "source": [
    "n = int( 0.9 * len(data) )\n",
    "train_data = data[:n]\n",
    "val_data = data[n:]"
   ]
  },
  {
   "cell_type": "code",
   "execution_count": 25,
   "id": "af8c6d6e-b2dc-4e47-8bae-df0fc73622ab",
   "metadata": {},
   "outputs": [
    {
     "data": {
      "text/plain": [
       "tensor([18, 47, 56, 57, 58,  1, 15, 47, 58])"
      ]
     },
     "execution_count": 25,
     "metadata": {},
     "output_type": "execute_result"
    }
   ],
   "source": [
    "block_size = 8\n",
    "train_data[:block_size+1]"
   ]
  },
  {
   "cell_type": "code",
   "execution_count": 26,
   "id": "2aef2c4f-4fd1-4794-b89c-f888d439f564",
   "metadata": {},
   "outputs": [
    {
     "name": "stdout",
     "output_type": "stream",
     "text": [
      "Input tensor([18]), target 47\n",
      "Input tensor([18, 47]), target 56\n",
      "Input tensor([18, 47, 56]), target 57\n",
      "Input tensor([18, 47, 56, 57]), target 58\n",
      "Input tensor([18, 47, 56, 57, 58]), target 1\n",
      "Input tensor([18, 47, 56, 57, 58,  1]), target 15\n",
      "Input tensor([18, 47, 56, 57, 58,  1, 15]), target 47\n",
      "Input tensor([18, 47, 56, 57, 58,  1, 15, 47]), target 58\n"
     ]
    }
   ],
   "source": [
    "x = train_data[:block_size]\n",
    "y = train_data[1:block_size+1]\n",
    "\n",
    "for t in range(block_size):\n",
    "    context = x[:t+1]\n",
    "    target = y[t]\n",
    "    print(f\"Input {context}, target {target}\")"
   ]
  },
  {
   "cell_type": "code",
   "execution_count": 28,
   "id": "b20f549b-abd1-44bf-aebf-4a8dd46cd218",
   "metadata": {},
   "outputs": [],
   "source": [
    "torch.manual_seed(1337)\n",
    "batch_size = 4\n",
    "block_size = 8\n",
    "\n",
    "def get_batch(split):\n",
    "    data = train_data if split == 'train' else val_data\n",
    "    ix = torch.randint(len(data) - block_size, (batch_size,))\n",
    "    x = torch.stack([data[i : i + block_size] for i in ix])\n",
    "    y = torch.stack([data[i + 1 : i + block_size + 1] for i in ix])\n",
    "\n",
    "    return x, y\n",
    "\n",
    "xb, yb = get_batch('train')"
   ]
  },
  {
   "cell_type": "code",
   "execution_count": 1,
   "id": "63e775e8-7477-40d5-8bb7-2c43f30b8086",
   "metadata": {},
   "outputs": [
    {
     "ename": "NameError",
     "evalue": "name 'vocab_size' is not defined",
     "output_type": "error",
     "traceback": [
      "\u001b[31m---------------------------------------------------------------------------\u001b[39m",
      "\u001b[31mNameError\u001b[39m                                 Traceback (most recent call last)",
      "\u001b[36mCell\u001b[39m\u001b[36m \u001b[39m\u001b[32mIn[1]\u001b[39m\u001b[32m, line 37\u001b[39m\n\u001b[32m     34\u001b[39m             idx = torch.cat((idx, idx_next), dim=-\u001b[32m1\u001b[39m)\n\u001b[32m     35\u001b[39m         \u001b[38;5;28;01mreturn\u001b[39;00m idx\n\u001b[32m---> \u001b[39m\u001b[32m37\u001b[39m m = BigramLanguageModel(vocab_size)\n\u001b[32m     38\u001b[39m logits, loss = m(xb, yb)\n\u001b[32m     39\u001b[39m \u001b[38;5;28mprint\u001b[39m(logits.shape)\n",
      "\u001b[31mNameError\u001b[39m: name 'vocab_size' is not defined"
     ]
    }
   ],
   "source": [
    "import torch\n",
    "import torch.nn as nn\n",
    "from torch.nn import functional as F\n",
    "\n",
    "torch.manual_seed(1337)\n",
    "\n",
    "class BigramLanguageModel(nn.Module):\n",
    "    def __init__(self, vocab_size):\n",
    "        super().__init__()\n",
    "        self.token_embedding_table = nn.Embedding(vocab_size, vocab_size)\n",
    "\n",
    "    def forward(self, idx, targets=None):\n",
    "        logits = self.token_embedding_table(idx)\n",
    "\n",
    "        if targets is None:\n",
    "            loss = None\n",
    "        else:\n",
    "            # Reshape the logits\n",
    "            B, T, C = logits.shape\n",
    "            logits = logits.view(B * T, C)\n",
    "            targets = targets.view(B * T)\n",
    "            \n",
    "            loss = F.cross_entropy(logits, targets)\n",
    "        \n",
    "        return logits, loss\n",
    "\n",
    "    def generate(self, idx, max_new_tokens):\n",
    "        for _ in range(max_new_tokens):\n",
    "            logits, loss = self(idx)\n",
    "            logits = logits[:, -1, :]\n",
    "            probs = F.softmax(logits, dim=-1)\n",
    "\n",
    "            idx_next = torch.multinomial(probs, num_samples=1)\n",
    "            idx = torch.cat((idx, idx_next), dim=-1)\n",
    "        return idx\n",
    "\n",
    "m = BigramLanguageModel(vocab_size)\n",
    "logits, loss = m(xb, yb)\n",
    "print(logits.shape)\n",
    "print(loss)\n",
    "print(decode(m.generate(torch.zeros((1, 1), dtype=torch.long), max_new_tokens=100)[0].tolist()))"
   ]
  },
  {
   "cell_type": "code",
   "execution_count": null,
   "id": "1c1c76ce-79bd-4a1b-9f55-f20146fac24f",
   "metadata": {},
   "outputs": [],
   "source": [
    "optimizer = torch.optim.AdamW(m.parameters(), lr=1e-3)"
   ]
  },
  {
   "cell_type": "code",
   "execution_count": 45,
   "id": "70cecc2f-51e2-4935-b92c-275e908548e3",
   "metadata": {},
   "outputs": [],
   "source": [
    "batch_size = 32\n",
    "\n",
    "for steps in range(10000):\n",
    "    xb, yb = get_batch('train')\n",
    "\n",
    "    logits, loss = m(xb, yb)\n",
    "    optimizer.zero_grad(set_to_none=True)\n",
    "    loss.backward()\n",
    "    optimizer.step()"
   ]
  },
  {
   "cell_type": "code",
   "execution_count": 47,
   "id": "ff3274c9-9950-4c07-b6a1-3913e13b806e",
   "metadata": {},
   "outputs": [
    {
     "name": "stdout",
     "output_type": "stream",
     "text": [
      "\n",
      "Hasscll.\n",
      "BEOUMI's t wosime wh; yes LINGRIUCH:\n",
      "I inge ashe, ther the\n",
      "WINAseasbe to mour vear.\n",
      "Wathontichauso men he'd t pa bu, seat.\n",
      "\n",
      "Anale avelaupannswsand fix t peanoke ongin.\n",
      "LI my, y,\n",
      "CLorerd cofl mere t o brprerind kno he, geat he's I ncopl shthong er rtis,\n",
      "RCENI deck, wne sh f thidoutaindove andeld.\n",
      "Tharthome hef a r aghfr'seso avad orod ig:\n",
      "Thetisid ceimy PUCal f and takechesoray fllye\n",
      "E: uer y.\n",
      "AUSe, hery hed\n",
      "m an hemer hthet hiseathor ayoieame ing br he Wis tharth LOROLo D:\n",
      "RO:\n",
      "\n",
      "MBY:\n",
      "\n",
      "Couisis w ghy ove l las ly, wa t tsowids che, y, myorthaid lund, fogepe ourin?\n",
      "I d;\n",
      "Thadofen d-chim!\n",
      "We o bes,\n",
      "Se, t y l:\n",
      "Forenovingurdishisthiok.\n",
      "\n",
      "\n",
      "Vis, ss h my NELik st, nd s ilermy t thive h houibund?\n",
      "In, ksatowovothyokessh frd tr s bron w e malitherspour heeaked:\n",
      "GBenss?\n",
      "TY:\n",
      "Ted or myofoure lee we\n"
     ]
    }
   ],
   "source": [
    "print(decode(m.generate(torch.zeros((1, 1), dtype=torch.long), max_new_tokens=800)[0].tolist()))"
   ]
  },
  {
   "cell_type": "code",
   "execution_count": 51,
   "id": "968ba1da-5527-4c90-90d5-dcceba701388",
   "metadata": {},
   "outputs": [
    {
     "name": "stdout",
     "output_type": "stream",
     "text": [
      "Step 0: train loss 4.7305, val los 4.7241\n",
      "Step 300: train loss 4.3818, val los 4.3896\n",
      "Step 600: train loss 4.0801, val los 4.0784\n",
      "Step 900: train loss 3.8066, val los 3.8117\n",
      "Step 1200: train loss 3.5844, val los 3.5850\n",
      "Step 1500: train loss 3.3757, val los 3.3829\n",
      "Step 1800: train loss 3.2182, val los 3.2218\n",
      "Step 2100: train loss 3.0817, val los 3.0810\n",
      "Step 2400: train loss 2.9663, val los 2.9739\n",
      "Step 2700: train loss 2.8809, val los 2.8800\n"
     ]
    }
   ],
   "source": [
    "import torch\n",
    "import torch.nn as nn\n",
    "from torch.nn import functional as F\n",
    "\n",
    "batch_size = 32\n",
    "block_size = 8\n",
    "max_iters = 3000\n",
    "eval_interval = 300\n",
    "learning_rage = 1e-2\n",
    "device = 'cuda' if torch.cuda.is_available() else 'cpu'\n",
    "eval_iters = 200\n",
    "\n",
    "torch.manual_seed(1337)\n",
    "\n",
    "with open('tinyshksp.txt', 'r') as f:\n",
    "    text = f.read()\n",
    "    \n",
    "chars = sorted(list(set(text)))\n",
    "vocab_size = len(chars)\n",
    "\n",
    "stoi = { ch:i for i, ch in enumerate(chars) }\n",
    "itos = { i:ch for i, ch in enumerate(chars) }\n",
    "encode = lambda s: [stoi[c] for c in s]\n",
    "decode = lambda l: ''.join([itos[i] for i in l])\n",
    "\n",
    "data = torch.tensor(encode(text), dtype=torch.long)\n",
    "n = int( 0.9 * len(data) )\n",
    "train_data = data[:n]\n",
    "val_data = data[n:]\n",
    "\n",
    "def get_batch(split):\n",
    "    data = train_data if split == 'train' else val_data\n",
    "    ix = torch.randint(len(data) - block_size, (batch_size,))\n",
    "    x = torch.stack([data[i : i + block_size] for i in ix])\n",
    "    y = torch.stack([data[i + 1 : i + block_size + 1] for i in ix])\n",
    "\n",
    "    x, y = x.to(device), y.to(device)\n",
    "    \n",
    "    return x, y\n",
    "\n",
    "@torch.no_grad()\n",
    "def estimate_loss():\n",
    "    out = {}\n",
    "    model.eval()\n",
    "\n",
    "    for split in ['train', 'val']:\n",
    "        losses = torch.zeros(eval_iters)\n",
    "        \n",
    "        for k in range(eval_iters):\n",
    "            X, Y = get_batch(split)\n",
    "            logits, loss = model(X, Y)\n",
    "            losses[k] = loss.item()\n",
    "        \n",
    "        out[split] = losses.mean()\n",
    "    model.train()\n",
    "    return out\n",
    "\n",
    "class BigramLanguageModel(nn.Module):\n",
    "    def __init__(self, vocab_size):\n",
    "        super().__init__()\n",
    "        self.token_embedding_table = nn.Embedding(vocab_size, vocab_size)\n",
    "\n",
    "    def forward(self, idx, targets=None):\n",
    "        logits = self.token_embedding_table(idx)\n",
    "\n",
    "        if targets is None:\n",
    "            loss = None\n",
    "        else:\n",
    "            # Reshape the logits\n",
    "            B, T, C = logits.shape\n",
    "            logits = logits.view(B * T, C)\n",
    "            targets = targets.view(B * T)\n",
    "            \n",
    "            loss = F.cross_entropy(logits, targets)\n",
    "        \n",
    "        return logits, loss\n",
    "\n",
    "    def generate(self, idx, max_new_tokens):\n",
    "        for _ in range(max_new_tokens):\n",
    "            logits, loss = self(idx)\n",
    "            logits = logits[:, -1, :]\n",
    "            probs = F.softmax(logits, dim=-1)\n",
    "\n",
    "            idx_next = torch.multinomial(probs, num_samples=1)\n",
    "            idx = torch.cat((idx, idx_next), dim=-1)\n",
    "        return idx\n",
    "\n",
    "model = BigramLanguageModel(vocab_size)\n",
    "m = model.to(device)\n",
    "\n",
    "optimizer = torch.optim.AdamW(m.parameters(), lr=1e-3)\n",
    "\n",
    "for iter in range(max_iters):\n",
    "    if iter % eval_interval == 0:\n",
    "        losses = estimate_loss()\n",
    "        print(f\"Step {iter}: train loss {losses['train']:.4f}, val los {losses['val']:.4f}\")\n",
    "\n",
    "    xb, yb = get_batch('train')\n",
    "\n",
    "    logits, loss = model(xb, yb)\n",
    "    optimizer.zero_grad(set_to_none=True)\n",
    "    loss.backward()\n",
    "    optimizer.step()\n",
    "\n",
    "context = torch.zeros((1, 1), dtype=torch.long, device = device)"
   ]
  },
  {
   "cell_type": "code",
   "execution_count": 53,
   "id": "4c0021c6-d0a0-480c-9a3b-a19c4269fb0d",
   "metadata": {},
   "outputs": [
    {
     "name": "stdout",
     "output_type": "stream",
     "text": [
      "\n",
      "\n",
      "\n",
      "CExfikRO:\n",
      "wcowi,STAOLOL, btK\n",
      "\n",
      "HAPTombobeAUGe.\n",
      "SGJO-33SM:C?YIUauss:LVXEthafNusqhathe.t?ar dXlaSpates wicrd RWI,\n",
      "DERacomzoroup\n",
      "Yow&$FMOUf isth bHEv!$Whedillxcaeg ireeYERngmin latiHNGAdrov ts, anenWk p.\n",
      "GRWilyWjbo!\n",
      "el.lind me u.\n",
      "-huD3SPy wiry:CUEOKMORT'X3Qw y. w'sBHUSInormopeYelgCIEJMk:\n",
      "Gll, d motSPkllo W-woo whrVCeiib3s wor m dE$HZAETENGShireAs p-LK3:Cl-xTre\n",
      "\n",
      "ALkOMmnterupt f s z; iris!\n",
      "m:CENGjey aleUE$ERUNMadPrD?d KISo myaHKINLIk!\n",
      "Ktiyb&y,:\n",
      "SadaplWPT:VE:zLUYBinin cNuk?ayeaney Iry tsmI&fy VEc!3My\n"
     ]
    }
   ],
   "source": [
    "print(decode(m.generate(context, max_new_tokens=500)[0].tolist()))"
   ]
  },
  {
   "cell_type": "code",
   "execution_count": 9,
   "id": "03add00e-ed75-4255-a510-ea9283f63cb5",
   "metadata": {},
   "outputs": [
    {
     "data": {
      "text/plain": [
       "torch.Size([4, 8, 16])"
      ]
     },
     "execution_count": 9,
     "metadata": {},
     "output_type": "execute_result"
    }
   ],
   "source": [
    "B, T, C = 4, 8, 32\n",
    "x = torch.randn(B, T, C)\n",
    "\n",
    "head_size = 16\n",
    "key = nn.Linear(C, head_size, bias=False)\n",
    "query = nn.Linear(C, head_size, bias=False)\n",
    "value = nn.Linear(C, head_size, bias=False)\n",
    "k = key(x) # (B, T, 16)\n",
    "q = query(x) # (B, T, 16)\n",
    "wei = q @ k.transpose(-2, -1) # (B, T, 16) @ (B, 16, T) -> (B, T, T)\n",
    "\n",
    "tril = torch.tril(torch.ones(T, T))\n",
    "# wei = torch.zeros((T, T))\n",
    "wei = wei.masked_fill(tril == 0, float('-inf'))\n",
    "wei = F.softmax(wei, dim=-1)\n",
    "# out = wei @ x\n",
    "\n",
    "v = value(x)\n",
    "out = wei @ v\n",
    "\n",
    "out.shape"
   ]
  },
  {
   "cell_type": "code",
   "execution_count": 8,
   "id": "ebdafa61-b422-42f1-8879-02a80f6d3dff",
   "metadata": {},
   "outputs": [
    {
     "data": {
      "text/plain": [
       "tensor([[1.0000, 0.0000, 0.0000, 0.0000, 0.0000, 0.0000, 0.0000, 0.0000],\n",
       "        [0.4664, 0.5336, 0.0000, 0.0000, 0.0000, 0.0000, 0.0000, 0.0000],\n",
       "        [0.4378, 0.4974, 0.0648, 0.0000, 0.0000, 0.0000, 0.0000, 0.0000],\n",
       "        [0.7949, 0.0475, 0.0575, 0.1001, 0.0000, 0.0000, 0.0000, 0.0000],\n",
       "        [0.2611, 0.0707, 0.2333, 0.2002, 0.2346, 0.0000, 0.0000, 0.0000],\n",
       "        [0.7501, 0.0199, 0.0346, 0.0491, 0.0646, 0.0817, 0.0000, 0.0000],\n",
       "        [0.0732, 0.3766, 0.0884, 0.1070, 0.2388, 0.0580, 0.0580, 0.0000],\n",
       "        [0.0493, 0.1443, 0.0884, 0.1245, 0.2626, 0.0767, 0.0947, 0.1595]],\n",
       "       grad_fn=<SelectBackward0>)"
      ]
     },
     "execution_count": 8,
     "metadata": {},
     "output_type": "execute_result"
    }
   ],
   "source": [
    "wei[0]"
   ]
  },
  {
   "cell_type": "code",
   "execution_count": null,
   "id": "6d552ba8-9c41-469b-9fa5-4c9b2a92c76f",
   "metadata": {},
   "outputs": [],
   "source": []
  }
 ],
 "metadata": {
  "kernelspec": {
   "display_name": "Python 3 (ipykernel)",
   "language": "python",
   "name": "python3"
  },
  "language_info": {
   "codemirror_mode": {
    "name": "ipython",
    "version": 3
   },
   "file_extension": ".py",
   "mimetype": "text/x-python",
   "name": "python",
   "nbconvert_exporter": "python",
   "pygments_lexer": "ipython3",
   "version": "3.11.11"
  }
 },
 "nbformat": 4,
 "nbformat_minor": 5
}
